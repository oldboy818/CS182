{
  "cells": [
    {
      "cell_type": "markdown",
      "metadata": {
        "id": "view-in-github",
        "colab_type": "text"
      },
      "source": [
        "<a href=\"https://colab.research.google.com/github/oldboy818/CS182/blob/main/1_Language_Modeling.ipynb\" target=\"_parent\"><img src=\"https://colab.research.google.com/assets/colab-badge.svg\" alt=\"Open In Colab\"/></a>"
      ]
    },
    {
      "cell_type": "markdown",
      "metadata": {
        "id": "yIqzcT6vyUJI"
      },
      "source": [
        "# Introduction"
      ]
    },
    {
      "cell_type": "markdown",
      "metadata": {
        "id": "eQrUWcSeyUJm"
      },
      "source": [
        "<center><h3>**Welcome to the Language modeling Notebook.**</h3></center>\n",
        "\n",
        "In this assignment, you are going to train a neural network to **generate news headlines**.\n",
        "To reduce computational needs, we have reduced it to headlines about technology, and a handful of Tech giants.\n",
        "In this assignment you will:\n",
        "- Learn to preprocess raw text so it can be fed into an LSTM.\n",
        "- Make use of the LSTM library of Pytorch, to train a Language model to generate headlines\n",
        "- Use your network to generate headlines, and judge which headlines are likely or not\n",
        "\n",
        "\n"
      ]
    },
    {
      "cell_type": "markdown",
      "metadata": {
        "id": "lCAzgVCryUJr"
      },
      "source": [
        "**What is a language model?**\n",
        "\n",
        "Language modeling is the task of assigning a probability to sentences in a language. Besides assigning a probability to each sequence of words, the language models also assigns a probability for the likelihood of a given word (or a sequence of words) to follow a sequence of words.\n",
        "— Page 105, __[Neural Network Methods in Natural Language Processing](https://www.amazon.com/Language-Processing-Synthesis-Lectures-Technologies/dp/1627052984/)__, 2017.\n",
        "\n",
        "In terms of neural network, we are training a neural network to produce probabilities (classification) over a fixed vocabulary of words.\n",
        "Concretely, we are training a neural network to produce:\n",
        "$$ P ( w_{i+1} | w_1, w_2, w_3, ..., w_i), \\forall i \\in (1,n)$$\n",
        "\n",
        "** Why is language modeling important? **\n",
        "\n",
        "Language modeling is a core problem in NLP.\n",
        "\n",
        "Language models can either be used as a stand-alone to produce new text that matches the distribution of text the model is trained on, but can also be used at the front-end of a more sophisticated model to produce better results.\n",
        "\n",
        "Recently for example, the __[BERT](https://arxiv.org/abs/1810.04805)__ paper show-cased that pretraining a large neural network on a language modeling task can help improve state-of-the-art on many NLP tasks.\n",
        "\n",
        "How good can the generation of a Language model be?\n",
        "\n",
        "If you have not seen the post about GPT-2 by OpenAI, you should read some of the samples they generated from their language model __[here](https://blog.openai.com/better-language-models/#sample1)__.\n",
        "Because of computational restrictions, we will not achieve as good text production, but the same algorithm is at the core. They just use more data and compute."
      ]
    },
    {
      "cell_type": "markdown",
      "metadata": {
        "id": "LL29FMhfyUJv"
      },
      "source": [
        "# Library imports"
      ]
    },
    {
      "cell_type": "markdown",
      "metadata": {
        "id": "5OXaa4g1yUJx"
      },
      "source": [
        "Before starting, make sure you have all these libraries."
      ]
    },
    {
      "cell_type": "code",
      "execution_count": 7,
      "metadata": {
        "colab": {
          "base_uri": "https://localhost:8080/"
        },
        "id": "g81IeWKxyYO-",
        "outputId": "a8017a24-ebcb-4678-b19a-c6df38f4584a"
      },
      "outputs": [
        {
          "output_type": "stream",
          "name": "stdout",
          "text": [
            "Collecting segtok\n",
            "  Downloading segtok-1.5.11-py3-none-any.whl (24 kB)\n",
            "Requirement already satisfied: regex in /usr/local/lib/python3.10/dist-packages (from segtok) (2023.6.3)\n",
            "Installing collected packages: segtok\n",
            "Successfully installed segtok-1.5.11\n"
          ]
        }
      ],
      "source": [
        "!pip install segtok"
      ]
    },
    {
      "cell_type": "markdown",
      "metadata": {
        "id": "tbRQpIj6NWH9"
      },
      "source": [
        "Run the first of the following two cells if you are running the homework locally, and run the second cell if you are running the homework in Colab"
      ]
    },
    {
      "cell_type": "code",
      "execution_count": 8,
      "metadata": {
        "id": "knxXp5y4NWH9"
      },
      "outputs": [],
      "source": [
        "DRIVE=False\n",
        "root_folder = \"\"\n",
        "dataset_folder = \"dataset/\""
      ]
    },
    {
      "cell_type": "code",
      "execution_count": 9,
      "metadata": {
        "colab": {
          "base_uri": "https://localhost:8080/"
        },
        "id": "se7xdZD7y-CL",
        "outputId": "aff9a0e9-53a9-4733-cb58-5fad80861c88"
      },
      "outputs": [
        {
          "output_type": "stream",
          "name": "stdout",
          "text": [
            "Drive already mounted at /content/drive; to attempt to forcibly remount, call drive.mount(\"/content/drive\", force_remount=True).\n"
          ]
        }
      ],
      "source": [
        "from google.colab import drive\n",
        "drive.mount('/content/drive')\n",
        "root_folder = \"/content/drive/My Drive/cs182_hw3/\"\n",
        "dataset_folder = \"/content/drive/My Drive/cs182_hw3/dataset/\""
      ]
    },
    {
      "cell_type": "code",
      "execution_count": 10,
      "metadata": {
        "id": "N1twBPSLyUJz",
        "colab": {
          "base_uri": "https://localhost:8080/"
        },
        "outputId": "05da6329-4800-4a81-cd8c-4dfb6ed49d31"
      },
      "outputs": [
        {
          "output_type": "stream",
          "name": "stdout",
          "text": [
            "The autoreload extension is already loaded. To reload it, use:\n",
            "  %reload_ext autoreload\n"
          ]
        }
      ],
      "source": [
        "%load_ext autoreload\n",
        "%autoreload 2"
      ]
    },
    {
      "cell_type": "code",
      "execution_count": 11,
      "metadata": {
        "id": "pPLGvVwByUJ3"
      },
      "outputs": [],
      "source": [
        "import os\n",
        "import sys\n",
        "sys.path.append(root_folder)\n",
        "from segtok import tokenizer\n",
        "from collections import Counter\n",
        "import torch as th\n",
        "from torch import nn\n",
        "import torch.nn.functional as F\n",
        "import torch.optim as optim\n",
        "\n",
        "import numpy as np\n",
        "import json\n",
        "from utils import validate_to_array"
      ]
    },
    {
      "cell_type": "markdown",
      "metadata": {
        "id": "OQTfdCRdyUJ8"
      },
      "source": [
        "# Loading the datasets"
      ]
    },
    {
      "cell_type": "markdown",
      "metadata": {
        "id": "3dNGkjKmyUJ9"
      },
      "source": [
        "Make sure the dataset files are all in the `dataset` folder of the assignment.\n",
        "\n",
        " - If you are using this notebook locally: You should run the `download_data.sh` script.\n",
        " - If you are using the Colab version of the notebook, make sure that your Google Drive is mounted, and you verify from the file explorer in Colab that the files are viewable within `/content/drive/cs182_hw3_public/dataset/`"
      ]
    },
    {
      "cell_type": "code",
      "execution_count": 12,
      "metadata": {
        "colab": {
          "base_uri": "https://localhost:8080/"
        },
        "id": "iLaRmt5uyUJ_",
        "outputId": "a2dcb6f8-70df-4dcd-e539-871aabc90b25"
      },
      "outputs": [
        {
          "output_type": "stream",
          "name": "stdout",
          "text": [
            "Number of training samples: 88568\n",
            "Number of validation samples: 946\n"
          ]
        }
      ],
      "source": [
        "# This cell loads the data for the model\n",
        "# Run this before working on loading any of the additional data\n",
        "\n",
        "with open(dataset_folder + \"headline_generation_dataset_processed.json\", \"r\") as f:\n",
        "    d_released = json.load(f)   # 헤드라인 데이터\n",
        "\n",
        "with open(dataset_folder + \"headline_generation_vocabulary.txt\", \"r\",encoding='utf8') as f:\n",
        "    vocabulary = f.read().split(\"\\n\")   # 어휘 데이터\n",
        "\n",
        "w2i = {w: i for i, w in enumerate(vocabulary)}  # Word to index\n",
        "i2w = {i: w for i, w in enumerate(vocabulary)}  # Index to word\n",
        "unkI, padI, startI = w2i['UNK'], w2i['PAD'], w2i['<START>'] # UnKnown(1), 패딩(2), 시작 토큰(0)\n",
        "\n",
        "vocab_size = len(vocabulary)    # 어휘 데이터의 총 수\n",
        "input_length = len(d_released[0]['numerized']) # The length of the first element in the dataset, they are all of the same length\n",
        "                                               # 입력 시퀀스의 길이. 헤드라인을 word to index 했을 때 pad를 포함한 총 길이. 모든 데이터가 같다.\n",
        "d_train = [d for d in d_released if d['cut'] == 'training']\n",
        "d_valid = [d for d in d_released if d['cut'] == 'validation']\n",
        "\n",
        "print(\"Number of training samples:\",len(d_train))\n",
        "print(\"Number of validation samples:\",len(d_valid))"
      ]
    },
    {
      "cell_type": "markdown",
      "metadata": {
        "id": "u31F-vXqyUKB"
      },
      "source": [
        "Now that we have loaded the data, let's inspect one of the elements. Each sample in our dataset is has a `numerized` vector, that contains the preprocessed headline. This vector is what we will feed in to the neural network. The field `numerized` corresponds to this list of tokens. The already loaded dictionary `vocabulary` maps token lists to the actual string. Use these elements to recover `title` key of entry 1001 in the training dataset.\n",
        "\n",
        "**TODO**: Write the numerized2text function in notebook_utils and inspect element 1001 in the training dataset (`entry = d_train[1001]`)."
      ]
    },
    {
      "cell_type": "code",
      "execution_count": 13,
      "metadata": {
        "id": "GqsHaZNbyUKD"
      },
      "outputs": [],
      "source": [
        "def numerize_sequence(tokenized):\n",
        "    return [w2i.get(w, unkI) for w in tokenized]\n",
        "\n",
        "def pad_sequence(numerized, pad_index, to_length):\n",
        "    pad = numerized[:to_length]\n",
        "    padded = pad + [pad_index] * (to_length - len(pad))\n",
        "    mask = [w != pad_index for w in padded]\n",
        "    return padded, mask"
      ]
    },
    {
      "cell_type": "code",
      "execution_count": 14,
      "metadata": {
        "colab": {
          "base_uri": "https://localhost:8080/"
        },
        "id": "C23VMn5DyUKF",
        "outputId": "4a24f040-fafa-4ee2-f583-350db82ba504"
      },
      "outputs": [
        {
          "output_type": "stream",
          "name": "stdout",
          "text": [
            "{'cut': 'training', 'title': \"Microsoft donates cloud computing 'worth $1 bn'\", 'url': 'http://www.france24.com/en/20160120-microsoft-donates-cloud-computing-worth-1-bn', 'mask': [True, True, True, True, True, True, True, True, True, True, False, False, False, False, False, False, False, False, False, False], 'numerized': [20, 2908, 116, 1022, 8, 692, 24, 155, 1669, 8, 2, 2, 2, 2, 2, 2, 2, 2, 2, 2]}\n",
            "Reversing the numerized: microsoft donates cloud computing ' worth $ 1 bn ' PAD PAD PAD PAD PAD PAD PAD PAD PAD PAD\n",
            "From the `title` entry: Microsoft donates cloud computing 'worth $1 bn'\n"
          ]
        }
      ],
      "source": [
        "def numerized2text(numerized):\n",
        "    \"\"\" Converts an integer sequence in the vocabulary into a string corresponding to the title.\n",
        "        Arguments:\n",
        "            numerized: List[int]  -- The list of vocabulary indices corresponding to the string\n",
        "        Returns:\n",
        "            title: str -- The string corresponding to the numerized input, without padding.\n",
        "    \"\"\"\n",
        "    #####\n",
        "    # BEGIN YOUR CODE HERE\n",
        "    # Recover each word from the vocabulary in the list of indices in numerized, using the vocabulary variable\n",
        "    # Hint 1: Use the string.join() function to reconstruct a single string\n",
        "    # Hint 2: The objects and/or functions defined in above cells may be useful.\n",
        "    #####\n",
        "\n",
        "    words = [vocabulary[i] for i in numerized]\n",
        "    converted_string = ' '.join(words)\n",
        "\n",
        "    #####\n",
        "    # END YOUR CODE HERE\n",
        "    #####\n",
        "\n",
        "    return converted_string\n",
        "\n",
        "entry = d_train[1001]   # train set 중 1001번째 데이터\n",
        "                        # 데이터는 'cut': train인지, validation인지. 'title'은 헤드라인. 'mask'는 ??. 'numerized'는 w2i. 로 구성\n",
        "print(entry)\n",
        "print(\"Reversing the numerized: \" + numerized2text(entry['numerized']))\n",
        "\n",
        "validate_to_array(numerized2text, (entry['numerized'],), 'numerized2text', root_folder) # 검증\n",
        "print(\"From the `title` entry: \" + entry['title'])"
      ]
    },
    {
      "cell_type": "markdown",
      "metadata": {
        "id": "ZrpgWj1FyUKH"
      },
      "source": [
        "In language modeling, we train a model to produce the next word in the sequence given all previously generated words. This has, in practice, two steps:\n",
        "\n",
        "\n",
        "    1. Adding a special <START> token to the start of the sequence for the input. This \"shifts\" the input to the right by one. We call this the \"source\" sequence\n",
        "    2. Making the network predict the original, unshifted version (we call this the \"target\" sequence)\n",
        "\n",
        "    \n",
        "Let's take an example. Say we want to train the network on the sentence: \"The cat is great.\"\n",
        "The input to the network will be \"`<START>` The cat is great.\" The target will be: \"The cat is great\".\n",
        "    \n",
        "Therefore the first prediction is to select the word \"The\" given the `<START>` token.\n",
        "The second prediction is to produce the word \"cat\" given the two tokens \"`<START>` The\".\n",
        "At each step, the network learns to predict the next word, given all previous ones.\n",
        "    \n",
        "---"
      ]
    },
    {
      "cell_type": "markdown",
      "metadata": {
        "id": "HO2ww8XPyUKK"
      },
      "source": [
        "Your next step is to write the build_batch function. Given a dataset, we select a random subset of samples, and will build the \"inputs\" and the \"targets\" of the batch, following the procedure we've described.\n",
        "\n",
        "**TODO**: write the build_batch function. We give you the structure, and you have to fill in where we have left things `your_code`.\n"
      ]
    },
    {
      "cell_type": "code",
      "execution_count": 15,
      "metadata": {
        "id": "Kl0f7hKKyUKL"
      },
      "outputs": [],
      "source": [
        "def build_batch(dataset, indices):\n",
        "    \"\"\" Builds a batch of source and target elements from the dataset.\n",
        "\n",
        "        Arguments:\n",
        "            dataset: List[db_element] -- A list of dataset elements\n",
        "            indices: List[int] -- A list of indices of the dataset to sample\n",
        "        Returns:\n",
        "            batch_input: List[List[int]] -- List of source sequences\n",
        "            batch_target: List[List[int]] -- List of target sequences\n",
        "            batch_target_mask: List[List[int]] -- List of target batch masks\n",
        "    \"\"\"\n",
        "    #####\n",
        "    # BEGIN YOUR CODE HERE\n",
        "    #####\n",
        "\n",
        "    # We get a list of indices we will choose from the dataset.\n",
        "    # indices = range(iteration * batch_size, (iteration + 1) * batch_size)\n",
        "\n",
        "    # Recover what the entries for the batch are\n",
        "    batch = [dataset[i] for i in indices]   # i번째 데이터\n",
        "\n",
        "    # Get the raw numerized for this input, each element of the dataset has a 'numerized' key\n",
        "    batch_numerized = [entry['numerized'] for entry in batch]   # i번째 데이터의 'numerized'. 즉 i2w를 위한 index\n",
        "\n",
        "    # Create an array of startI that will be concatenated at position 1 for the input.\n",
        "    # Should be of shape (batch_size, 1)\n",
        "    start_tokens = np.array([[startI] for _ in range(len(batch))])\n",
        "                # 시작토큰. startI = w2i['<START>]으로 값은 0이다.\n",
        "                # shape (batch_size, 1)로 만들어주기 위해 np.array() 함수\n",
        "\n",
        "    # Concatenate the start_tokens with the rest of the input\n",
        "    # The np.concatenate function should be useful\n",
        "    # The output should now be [batch_size, sequence_length+1]\n",
        "    batch_input = np.concatenate((start_tokens, batch_numerized), axis = 1)\n",
        "                # 시작토큰과 'numerizsed' key를 concat\n",
        "\n",
        "    # Remove the last word from each element in the batch\n",
        "    # To restore the [batch_size, sequence_length] size\n",
        "    batch_input = [entry[:-1] for entry in batch_input]\n",
        "                # 입력 시퀀스는 마지막 word를 제거한 형태로 만듦\n",
        "                # batch_input[:, :-1]로 했으면 더 효율적\n",
        "\n",
        "    # The target should be the un-shifted numerized input\n",
        "    batch_target = batch_numerized\n",
        "\n",
        "    # The target-mask is a 0 or 1 filter to note which tokens are\n",
        "    # padding or not, to give the loss, so the model doesn't get rewarded for\n",
        "    # predicting PAD tokens.\n",
        "    batch_target_mask = np.array([entry['mask'] for entry in batch])\n",
        "\n",
        "    #####\n",
        "    # END YOUR CODE HERE\n",
        "    #####\n",
        "\n",
        "    return batch_input, batch_target, batch_target_mask\n",
        "\n",
        "\n",
        "validate_to_array(build_batch, (d_train, range(100)), 'build_batch', root_folder)"
      ]
    },
    {
      "cell_type": "markdown",
      "metadata": {
        "id": "fBbG3vC5yUKN"
      },
      "source": [
        "# Creating the language model"
      ]
    },
    {
      "cell_type": "markdown",
      "metadata": {
        "id": "b3Eg8rHGyUKP"
      },
      "source": [
        "Now that we've written the data pipelining, we are ready to write the Neural network.\n",
        "\n",
        "The steps to setting up a neural network to do Language modeling are:\n",
        "- Creating the placeholders for the model, where we can feed in our inputs and targets.\n",
        "- Creating an RNN of our choice, size, and with optional parameters\n",
        "- Using the RNN on our placeholder inputs.\n",
        "- Getting the output from the RNN, and projecting it into a vocabulary sized dimension, so that we can make word predictions.\n",
        "- Setting up the loss on the outputs so that the network learns to produce the correct words.\n",
        "- Finally, choosing an optimizer, and defining a training operation: using the optimizer to minimize the loss.\n",
        "\n",
        "We provide skeleton code for the model, you can fill in the `your_code` section. If you are unfamiliar with Pytorch, we provide some idea of what functions to look for, you should use the Pytorch online documentation.\n",
        "\n",
        "**TODO**: Fill in the LanguageModel in the language_model file.\n"
      ]
    },
    {
      "cell_type": "code",
      "execution_count": 16,
      "metadata": {
        "id": "rKJ2D23GyUKR"
      },
      "outputs": [],
      "source": [
        "from language_model import LanguageModel"
      ]
    },
    {
      "cell_type": "markdown",
      "metadata": {
        "id": "qz7ixZGKyUKT"
      },
      "source": [
        "# Training the model"
      ]
    },
    {
      "cell_type": "markdown",
      "metadata": {
        "id": "9sDUBkpnyUKU"
      },
      "source": [
        "Your objective is to train the Language on the dataset you are provided to reach a **validation loss <= 5.50**\n",
        "\n",
        "**TODO**: Train your model so that it achieves a validation loss of <= 5.5.\n",
        "\n",
        "**Careful**: we will be testing this loss on an unreleased test set, so make sure to evaluate properly on a validation set and not overfit. You must save the model you want us to test under: models/final_language_model (the .index, .meta and .data files)\n",
        "\n",
        "**Advice**:\n",
        "- It should be possible to attain loss <= 5.50 with a 1-layer LSTM of size 256 or less.\n",
        "- You should not need more than 10 epochs to attain the threshold. More passes over the data can however give you a better model.\n",
        "- You can however try using:\n",
        "    - LSTM dropout (Pytorch has a layer for that)\n",
        "    - Multi-layer RNN cell (Pytorch has a layer for that)\n",
        "    - Change your optimizers, tune your learning_rate, use a learning rate schedule.\n",
        "    \n",
        "**Extra credit**:\n",
        "\n",
        "Get the loss below **validation loss <= 5.00** and get 5 points of extra-credit on this assignment. Get creative,\n",
        "\n",
        "but remember, what you do should work on our held-out test set to get the points."
      ]
    },
    {
      "cell_type": "code",
      "execution_count": 43,
      "metadata": {
        "colab": {
          "base_uri": "https://localhost:8080/"
        },
        "id": "b01AZj0RyUKW",
        "outputId": "77e9dc37-c289-4f01-d5df-8ad3144902cf"
      },
      "outputs": [
        {
          "output_type": "stream",
          "name": "stdout",
          "text": [
            "cuda\n"
          ]
        }
      ],
      "source": [
        "# We can create our model,\n",
        "# with parameters of our choosing.\n",
        "hidden_size = 256\n",
        "num_layers = 2\n",
        "dropout = .5\n",
        "\n",
        "# Setup the loss using cross-entropy loss.\n",
        "# The logits are the output_logits we've computed,\n",
        "# look at the pytorch docs for `CrossEntropyLoss` and `permute`\n",
        "# to align the axes correctly and to account for the masking properly.\n",
        "# The targets are the goal labels we are trying to match.\n",
        "\n",
        "# Note that if you directly take the mean of the loss tensor,\n",
        "# it will underestimate your loss! (why would that be?)\n",
        "\n",
        "# Lastly, there are a few valid forms of averaging token losses,\n",
        "# here we will take the mean of all non-mask tokens together.\n",
        "criterion = nn.CrossEntropyLoss(reduction='none')\n",
        "\n",
        "def loss_fn(pred, target, mask):\n",
        "    pred = pred.permute(0, 2, 1)  # put the class probabilities in the middle\n",
        "                                  # 원래 (배치 차원, 시퀀스 길이 차원, 임베딩 차원)인데,\n",
        "                                  # pred, 즉 scores는 실제 값과 예측 값의 차이니까 마지막 차원에 위치.\n",
        "    loss_tensor = criterion(pred, target)   # Calculate the loss_tensor using CrossEntropyLoss\n",
        "    loss_masked = loss_tensor * mask        # Pad token을 제거하기 위해 mask element wise\n",
        "    loss_per_sample = th.sum(loss_masked, dim=1) / th.sum(mask, dim=1)\n",
        "                                            # 각 샘플(시퀀스)에 대한 평균 손실\n",
        "    return loss_per_sample.mean()\n",
        "\n",
        "# The build_batch function outputs numpy, but our model is built in pytorch,\n",
        "# so you need to convert numpy to pytorch.\n",
        "# You also have to cast the masks into float32, target into long, and input into long.\n",
        "# Look at the `float` and `long` function.\n",
        "batch_to_torch = lambda b_in, b_target, b_mask: (\n",
        "                        th.LongTensor(b_in).to(device),\n",
        "                                    # 입력 데이터 b_in을 th.LongTensor로 변환. 이 텐서를 GPU or CPU로 이동\n",
        "                        th.LongTensor(b_target).to(device),\n",
        "                                    # 대상 데이터 b_target을 th.LongTensor로 변환.\n",
        "                        th.FloatTensor(b_mask).to(device)\n",
        "                                    # 마스크 데이터 b_mask를 th.FloatTensor로 변환\n",
        "                                    # 손실함수는 실수(float)데이터 유형이기 때문\n",
        "                                                )\n",
        "                        # th.LongTensor : 정수 데이터를 표현하는 PyTorch 텐서\n",
        "                        # Th.FloatTensor : 실수 데이터를 표현하는 PyTorch 텐서\n",
        "\n",
        "# Look at the docs for torch.optim and pick an optimizer\n",
        "# And provide it with a start learning rate.\n",
        "optimizer_class = optim.Adam\n",
        "lr = 1e-2\n",
        "epochs = 30\n",
        "batch_size = 1024\n",
        "decay_factor = 0.3\n",
        "step_size = 3  # Adjust this as needed, it's the number of epochs before the lr is reduced\n",
        "\n",
        "model_id = 'test1'\n",
        "os.makedirs(root_folder+'models/part1/',exist_ok=True)\n",
        "\n",
        "device = th.device(\"cuda\" if th.cuda.is_available() else \"cpu\")\n",
        "print(device)\n",
        "list_to_device = lambda th_obj: [tensor.to(device) for tensor in th_obj]"
      ]
    },
    {
      "cell_type": "code",
      "execution_count": 44,
      "metadata": {
        "id": "fjIAKqbvg9ER"
      },
      "outputs": [],
      "source": [
        "model = LanguageModel(vocab_size=vocab_size, rnn_size=hidden_size, num_layers=num_layers, dropout=dropout)\n",
        "optimizer = optimizer_class(model.parameters(), lr=lr)\n",
        "\n",
        "from torch.optim.lr_scheduler import StepLR\n",
        "# Create a learning rate scheduler\n",
        "scheduler = StepLR(optimizer, step_size=step_size, gamma=decay_factor)"
      ]
    },
    {
      "cell_type": "code",
      "execution_count": 45,
      "metadata": {
        "colab": {
          "base_uri": "https://localhost:8080/"
        },
        "id": "sVDHLiOmyUKX",
        "outputId": "851d6d5f-db3a-4491-b874-db4643670ef7",
        "scrolled": false
      },
      "outputs": [
        {
          "output_type": "stream",
          "name": "stderr",
          "text": [
            "Epoch: 0 Iteration: 80 Loss: 6.477499723434448 Accuracy: 0.0765884779393673: 100%|██████████| 87/87 [00:21<00:00,  4.14it/s]\n",
            "Epoch: 1 Iteration: 80 Loss: 6.200576829910278 Accuracy: 0.09177854359149933: 100%|██████████| 87/87 [00:21<00:00,  4.07it/s]\n",
            "Epoch: 2 Iteration: 80 Loss: 6.064072990417481 Accuracy: 0.10033826529979706: 100%|██████████| 87/87 [00:21<00:00,  4.14it/s]\n",
            "Epoch: 3 Iteration: 80 Loss: 5.903993415832519 Accuracy: 0.1101399764418602: 100%|██████████| 87/87 [00:20<00:00,  4.17it/s]\n",
            "Epoch: 4 Iteration: 80 Loss: 5.872218370437622 Accuracy: 0.11236904039978982: 100%|██████████| 87/87 [00:21<00:00,  4.14it/s]\n",
            "Epoch: 5 Iteration: 80 Loss: 5.8398724555969235 Accuracy: 0.11298962384462356: 100%|██████████| 87/87 [00:21<00:00,  4.14it/s]\n",
            "Epoch: 6 Iteration: 80 Loss: 5.810350370407105 Accuracy: 0.11460936889052391: 100%|██████████| 87/87 [00:21<00:00,  4.08it/s]\n",
            "Epoch: 7 Iteration: 80 Loss: 5.793674945831299 Accuracy: 0.11635529696941375: 100%|██████████| 87/87 [00:21<00:00,  4.13it/s]\n",
            "Epoch: 8 Iteration: 80 Loss: 5.768400764465332 Accuracy: 0.11808211952447892: 100%|██████████| 87/87 [00:21<00:00,  4.14it/s]\n",
            "Epoch: 9 Iteration: 80 Loss: 5.749624967575073 Accuracy: 0.11668451130390167: 100%|██████████| 87/87 [00:21<00:00,  4.14it/s]\n",
            "Epoch: 10 Iteration: 80 Loss: 5.759609746932983 Accuracy: 0.11537590995430946: 100%|██████████| 87/87 [00:21<00:00,  4.13it/s]\n",
            "Epoch: 11 Iteration: 80 Loss: 5.745567321777344 Accuracy: 0.11714928075671197: 100%|██████████| 87/87 [00:21<00:00,  4.14it/s]\n",
            "Epoch: 12 Iteration: 80 Loss: 5.729199647903442 Accuracy: 0.11759553626179695: 100%|██████████| 87/87 [00:21<00:00,  4.14it/s]\n",
            "Epoch: 13 Iteration: 80 Loss: 5.731918382644653 Accuracy: 0.1190983384847641: 100%|██████████| 87/87 [00:21<00:00,  4.14it/s]\n",
            "Epoch: 14 Iteration: 80 Loss: 5.738115310668945 Accuracy: 0.11863280758261681: 100%|██████████| 87/87 [00:21<00:00,  4.13it/s]\n",
            "Epoch: 15 Iteration: 80 Loss: 5.729816818237305 Accuracy: 0.11745364665985107: 100%|██████████| 87/87 [00:21<00:00,  4.14it/s]\n",
            "Epoch: 16 Iteration: 80 Loss: 5.740239381790161 Accuracy: 0.11657025665044785: 100%|██████████| 87/87 [00:21<00:00,  4.14it/s]\n",
            "Epoch: 17 Iteration: 80 Loss: 5.736021518707275 Accuracy: 0.11823091730475425: 100%|██████████| 87/87 [00:21<00:00,  4.14it/s]\n",
            "Epoch: 18 Iteration: 80 Loss: 5.739424371719361 Accuracy: 0.11665012389421463: 100%|██████████| 87/87 [00:20<00:00,  4.14it/s]\n",
            "Epoch: 19 Iteration: 80 Loss: 5.728818702697754 Accuracy: 0.11903410702943802: 100%|██████████| 87/87 [00:21<00:00,  4.14it/s]\n",
            "Epoch: 20 Iteration: 80 Loss: 5.72316312789917 Accuracy: 0.11822505667805672: 100%|██████████| 87/87 [00:21<00:00,  4.14it/s]\n",
            "Epoch: 21 Iteration: 80 Loss: 5.7285408020019535 Accuracy: 0.11921455115079879: 100%|██████████| 87/87 [00:21<00:00,  4.14it/s]\n",
            "Epoch: 22 Iteration: 80 Loss: 5.7158042907714846 Accuracy: 0.11886447072029113: 100%|██████████| 87/87 [00:21<00:00,  4.13it/s]\n",
            "Epoch: 23 Iteration: 80 Loss: 5.734099292755127 Accuracy: 0.11806750744581222: 100%|██████████| 87/87 [00:21<00:00,  4.14it/s]\n",
            "Epoch: 24 Iteration: 80 Loss: 5.737757635116577 Accuracy: 0.11626407951116562: 100%|██████████| 87/87 [00:21<00:00,  4.14it/s]\n",
            "Epoch: 25 Iteration: 80 Loss: 5.731668996810913 Accuracy: 0.11831569522619248: 100%|██████████| 87/87 [00:21<00:00,  4.14it/s]\n",
            "Epoch: 26 Iteration: 80 Loss: 5.731939744949341 Accuracy: 0.11894770786166191: 100%|██████████| 87/87 [00:21<00:00,  4.13it/s]\n",
            "Epoch: 27 Iteration: 80 Loss: 5.7440471172332765 Accuracy: 0.1171014130115509: 100%|██████████| 87/87 [00:21<00:00,  4.14it/s]\n",
            "Epoch: 28 Iteration: 80 Loss: 5.728354835510254 Accuracy: 0.11891301870346069: 100%|██████████| 87/87 [00:21<00:00,  4.13it/s]\n",
            "Epoch: 29 Iteration: 80 Loss: 5.731222248077392 Accuracy: 0.11848137229681015: 100%|██████████| 87/87 [00:21<00:00,  4.14it/s]\n"
          ]
        }
      ],
      "source": [
        "# Skeleton code\n",
        "# You have to write your own training process to obtain a\n",
        "# Good performing model on the validation set, and save it.\n",
        "\n",
        "model.train()\n",
        "losses = []\n",
        "accuracies = []\n",
        "\n",
        "from tqdm import tqdm\n",
        "for epoch in range(epochs):\n",
        "    indices = np.random.permutation(range(len(d_train)))\n",
        "    t = tqdm(range(0, (len(d_train) // batch_size) + 1))\n",
        "\n",
        "    for i in t:\n",
        "        # Here is how you obtain a batch:\n",
        "        batch = build_batch(d_train, indices[i * batch_size : (i+1) * batch_size])\n",
        "        (batch_input, batch_target, batch_target_mask) = batch_to_torch(*batch)\n",
        "        (batch_input, batch_target, batch_target_mask) = list_to_device((batch_input, batch_target, batch_target_mask))\n",
        "        model.to(device)\n",
        "\n",
        "        # Forward pass\n",
        "        prediction = model.forward(batch_input)\n",
        "                            # 모델에 batch_input 입력해 예측값 출력\n",
        "\n",
        "        # Compute the Loss\n",
        "        loss = loss_fn(prediction, batch_target, batch_target_mask)\n",
        "                            # 이전에 정의한 loss_fn을 이용해서 loss_per_sample 계산\n",
        "                            # loss를 스칼라 값으로 계산하기 위해 th.mean() 연산\n",
        "        losses.append(loss.item())\n",
        "\n",
        "        # Compute accuracy\n",
        "        accuracy = (th.eq(prediction.argmax(dim=2,keepdim=False),batch_target).float()*batch_target_mask).sum()/batch_target_mask.sum()\n",
        "        accuracies.append(accuracy.item())\n",
        "\n",
        "        optimizer.zero_grad()  # 기울기 초기화\n",
        "        loss.backward()        # 역전파\n",
        "        optimizer.step()       # 가중치 업데이트\n",
        "\n",
        "        if i % 10 == 0:\n",
        "            t.set_description(f\"Epoch: {epoch} Iteration: {i} Loss: {np.mean(losses[-10:])} Accuracy: {np.mean(accuracies[-10:])}\")\n",
        "\n",
        "    # Update the learning rate at the end of each epoch\n",
        "    scheduler.step()\n",
        "\n",
        "    # save your latest model\n",
        "    save_dict = dict(\n",
        "        kwargs = dict(\n",
        "            vocab_size=vocab_size,\n",
        "            rnn_size=hidden_size,\n",
        "            num_layers=num_layers,\n",
        "            dropout=dropout\n",
        "        ),\n",
        "        model_state_dict = model.state_dict(),\n",
        "        notes = \"\",\n",
        "        optimizer_class = optimizer_class,\n",
        "        lr = lr,\n",
        "        epochs = epochs,\n",
        "        batch_size = batch_size,\n",
        "    )\n",
        "    th.save(save_dict,root_folder+f'models/part1/model_{model_id}.pt')"
      ]
    },
    {
      "cell_type": "markdown",
      "metadata": {
        "id": "fhaj6XIdyUKZ"
      },
      "source": [
        "# Using the language model"
      ]
    },
    {
      "cell_type": "markdown",
      "metadata": {
        "id": "9lgsKMqmyUKa"
      },
      "source": [
        "Congratulations, you have now trained a language model! We can now use it to evaluate likely news headlines, as well as generate our very own headlines.\n",
        "\n",
        "**TODO**: Complete the three parts below, using the model you have trained."
      ]
    },
    {
      "cell_type": "markdown",
      "metadata": {
        "id": "EnR8ma3cyUKb"
      },
      "source": [
        "## (1) Evaluation loss\n",
        "\n",
        "To evaluate the language model, we evaluate its loss (ability to predict) on unseen data that is reserved for evaluation.\n",
        "Your first evaluation is to load the model you trained, and obtain a test loss. If you are running this validation and not training, run the setup cell above the training loop first."
      ]
    },
    {
      "cell_type": "code",
      "execution_count": 35,
      "metadata": {
        "colab": {
          "base_uri": "https://localhost:8080/"
        },
        "id": "zkL164RCyUKc",
        "outputId": "b559acf5-7dca-4e8e-965e-d5d2a268ea54"
      },
      "outputs": [
        {
          "output_type": "execute_result",
          "data": {
            "text/plain": [
              "LanguageModel(\n",
              "  (embedding): Embedding(10000, 256)\n",
              "  (lstm): LSTM(256, 256, num_layers=2, dropout=0.5)\n",
              "  (batch_norm): BatchNorm1d(256, eps=1e-05, momentum=0.1, affine=True, track_running_stats=True)\n",
              "  (dropout): Dropout(p=0.5, inplace=False)\n",
              "  (output): Linear(in_features=256, out_features=10000, bias=True)\n",
              ")"
            ]
          },
          "metadata": {},
          "execution_count": 35
        }
      ],
      "source": [
        "model_id = \"test1\"\n",
        "save_dict = th.load(root_folder+'models/part1/'+f\"model_{model_id}.pt\",map_location='cuda')\n",
        "model = LanguageModel(**save_dict['kwargs'])\n",
        "model.load_state_dict(save_dict['model_state_dict'])\n",
        "model.eval()"
      ]
    },
    {
      "cell_type": "code",
      "execution_count": 36,
      "metadata": {
        "colab": {
          "base_uri": "https://localhost:8080/"
        },
        "id": "o0B71owvyUKe",
        "outputId": "ea72d878-3068-43c1-c8cc-f32b2f5bdd0b"
      },
      "outputs": [
        {
          "output_type": "stream",
          "name": "stdout",
          "text": [
            "Evaluation set loss: 5.706061840057373\n"
          ]
        }
      ],
      "source": [
        "# We will evaluate your model in the best_models folder\n",
        "# In a very similar way as the code below.\n",
        "# Make sure your validation loss is below the threshold we specified\n",
        "# and that you didn't train using the validation set\n",
        "\n",
        "batch = build_batch(d_valid, range(len(d_valid)))\n",
        "(batch_input, batch_target, batch_target_mask) = batch_to_torch(*batch)\n",
        "\n",
        "model = model.to('cuda')  # 모델을 GPU로 이동\n",
        "prediction = model(batch_input.long().to('cuda'))\n",
        "# prediction = model(batch_input.long())\n",
        "\n",
        "loss = loss_fn(prediction, batch_target, batch_target_mask)\n",
        "print(\"Evaluation set loss:\", loss.item())"
      ]
    },
    {
      "cell_type": "code",
      "execution_count": 22,
      "metadata": {
        "id": "2W-FFdHoyUKg"
      },
      "outputs": [],
      "source": [
        "# Your best performing model should go here.\n",
        "os.makedirs(root_folder+\"best_models\",exist_ok=True)\n",
        "best_model_file = root_folder+\"best_models/part1_best_model.pt\"\n",
        "th.save(save_dict,best_model_file)"
      ]
    },
    {
      "cell_type": "markdown",
      "metadata": {
        "id": "-oP9wBwfyUKj"
      },
      "source": [
        "## (2) Evaluation of likelihood of data\n",
        "\n",
        "One use of a language model is to see what data is more likely to have originated from the training data. Because we have trained our model on news headlines, we can see which of these headlines is more likely:\n",
        "\n",
        "``Apple to release another iPhone in September``\n",
        "\n",
        "\n",
        " ``Apple and Samsung resolve all lawsuits amicably``\n",
        "\n",
        "**TODO**: Use the model to obtain the loss the neural network assigns to each sentence.\n",
        "Because the neural network assigns probability to the words appearing in a sequence, this loss can be used as a proxy to measure how likely the sentence is to have occurred in the dataset.\n",
        "Once you have the loss for each headline, write down which sentence was judged to be more likely, and explain why/if you think this is coherent.\n",
        "\n",
        "**Your answer:**\n"
      ]
    },
    {
      "cell_type": "code",
      "execution_count": 23,
      "metadata": {
        "id": "CH-YlqE2yUKk"
      },
      "outputs": [],
      "source": [
        "def raw_sample_pred(headline, model):\n",
        "    #####\n",
        "    # BEGIN YOUR CODE HERE\n",
        "    #####\n",
        "    # From the code in the Preprocessing section at the end of the notebook\n",
        "    # Find out how to tokenize the headline\n",
        "    tokenized = your_code\n",
        "\n",
        "    # Find out how to numerize the tokenized headline\n",
        "    numerized = your_code\n",
        "\n",
        "    # Learn how to pad and obtain the mask of the sequence.\n",
        "    padded, mask = your_code\n",
        "\n",
        "    # Obtain the predicted headline and target headline\n",
        "    input_headline = your_code\n",
        "    pred_headline = your_code\n",
        "    target_headline = your_code\n",
        "    mask = your_code\n",
        "\n",
        "    #####\n",
        "    # END YOUR CODE HERE\n",
        "    #####\n",
        "\n",
        "    return pred_headline,target_headline,mask"
      ]
    },
    {
      "cell_type": "code",
      "execution_count": 24,
      "metadata": {
        "colab": {
          "base_uri": "https://localhost:8080/",
          "height": 376
        },
        "id": "LexHAsuiyUKm",
        "outputId": "6cbba24f-d011-4175-d396-127a57e448d8"
      },
      "outputs": [
        {
          "output_type": "error",
          "ename": "NameError",
          "evalue": "ignored",
          "traceback": [
            "\u001b[0;31m---------------------------------------------------------------------------\u001b[0m",
            "\u001b[0;31mNameError\u001b[0m                                 Traceback (most recent call last)",
            "\u001b[0;32m<ipython-input-24-b631cafc5ed0>\u001b[0m in \u001b[0;36m<cell line: 7>\u001b[0;34m()\u001b[0m\n\u001b[1;32m      6\u001b[0m \u001b[0mheadlines\u001b[0m \u001b[0;34m=\u001b[0m \u001b[0;34m[\u001b[0m\u001b[0mheadline1\u001b[0m\u001b[0;34m.\u001b[0m\u001b[0mlower\u001b[0m\u001b[0;34m(\u001b[0m\u001b[0;34m)\u001b[0m\u001b[0;34m,\u001b[0m \u001b[0mheadline2\u001b[0m\u001b[0;34m.\u001b[0m\u001b[0mlower\u001b[0m\u001b[0;34m(\u001b[0m\u001b[0;34m)\u001b[0m\u001b[0;34m]\u001b[0m \u001b[0;31m# Our LSTM is trained on lower-cased headlines\u001b[0m\u001b[0;34m\u001b[0m\u001b[0;34m\u001b[0m\u001b[0m\n\u001b[1;32m      7\u001b[0m \u001b[0;32mfor\u001b[0m \u001b[0mheadline\u001b[0m \u001b[0;32min\u001b[0m \u001b[0mheadlines\u001b[0m\u001b[0;34m:\u001b[0m\u001b[0;34m\u001b[0m\u001b[0;34m\u001b[0m\u001b[0m\n\u001b[0;32m----> 8\u001b[0;31m     \u001b[0mpred_headline\u001b[0m\u001b[0;34m,\u001b[0m\u001b[0mtarget_headline\u001b[0m\u001b[0;34m,\u001b[0m\u001b[0mmask\u001b[0m \u001b[0;34m=\u001b[0m \u001b[0mraw_sample_pred\u001b[0m\u001b[0;34m(\u001b[0m\u001b[0mheadline\u001b[0m\u001b[0;34m,\u001b[0m \u001b[0mmodel\u001b[0m\u001b[0;34m)\u001b[0m\u001b[0;34m\u001b[0m\u001b[0;34m\u001b[0m\u001b[0m\n\u001b[0m\u001b[1;32m      9\u001b[0m     \u001b[0mloss\u001b[0m \u001b[0;34m=\u001b[0m \u001b[0myour_code\u001b[0m \u001b[0;31m# Obtain the loss\u001b[0m\u001b[0;34m\u001b[0m\u001b[0;34m\u001b[0m\u001b[0m\n\u001b[1;32m     10\u001b[0m \u001b[0;34m\u001b[0m\u001b[0m\n",
            "\u001b[0;32m<ipython-input-23-e9d98dd1bbab>\u001b[0m in \u001b[0;36mraw_sample_pred\u001b[0;34m(headline, model)\u001b[0m\n\u001b[1;32m      5\u001b[0m     \u001b[0;31m# From the code in the Preprocessing section at the end of the notebook\u001b[0m\u001b[0;34m\u001b[0m\u001b[0;34m\u001b[0m\u001b[0m\n\u001b[1;32m      6\u001b[0m     \u001b[0;31m# Find out how to tokenize the headline\u001b[0m\u001b[0;34m\u001b[0m\u001b[0;34m\u001b[0m\u001b[0m\n\u001b[0;32m----> 7\u001b[0;31m     \u001b[0mtokenized\u001b[0m \u001b[0;34m=\u001b[0m \u001b[0myour_code\u001b[0m\u001b[0;34m\u001b[0m\u001b[0;34m\u001b[0m\u001b[0m\n\u001b[0m\u001b[1;32m      8\u001b[0m \u001b[0;34m\u001b[0m\u001b[0m\n\u001b[1;32m      9\u001b[0m     \u001b[0;31m# Find out how to numerize the tokenized headline\u001b[0m\u001b[0;34m\u001b[0m\u001b[0;34m\u001b[0m\u001b[0m\n",
            "\u001b[0;31mNameError\u001b[0m: name 'your_code' is not defined"
          ]
        }
      ],
      "source": [
        "model.eval()\n",
        "\n",
        "headline1 = \"Apple to release new iPhone in July\"\n",
        "headline2 = \"Apple and Samsung resolve all lawsuits\"\n",
        "\n",
        "headlines = [headline1.lower(), headline2.lower()] # Our LSTM is trained on lower-cased headlines\n",
        "for headline in headlines:\n",
        "    pred_headline,target_headline,mask = raw_sample_pred(headline, model)\n",
        "    loss = your_code # Obtain the loss\n",
        "\n",
        "    print(\"----------------------------------------\")\n",
        "    print(\"Headline:\", headline)\n",
        "    print(\"Loss of the headline:\", loss)\n",
        "validate_to_array(raw_sample_pred,zip(headlines,[model]*2),'raw_sample_pred',root_folder,multi=True)\n",
        "# Important check: one headline should be more likely (and have lower loss)\n",
        "# Than the other headline. You should know which headline should have lower loss."
      ]
    },
    {
      "cell_type": "markdown",
      "metadata": {
        "id": "kpn8XlLXyUKn"
      },
      "source": [
        "## (3) Generation of headlines\n",
        "\n",
        "We can use our language model to generate text according to the distribution of our training data.\n",
        "The way generation works is the following:\n",
        "\n",
        "We seed the model with a beginning of sequence, and obtain the distribution for the next word.\n",
        "We select the most likely word (argmax) and add it to our sequence of words.\n",
        "Now our sequence is one word longer, and we can feed it in again as an input, for the network to produce the next sentence.\n",
        "We do this a fixed number of times (up to 20 words), and obtain automatically generated headlines!\n"
      ]
    },
    {
      "cell_type": "markdown",
      "metadata": {
        "id": "hycdvFs6yUKo"
      },
      "source": [
        "We have provided a few headline starters that should produce interesting generated headlines.\n",
        "\n",
        "**TODO:** Get creative and find at least 2 more headline_starters that produce interesting headlines."
      ]
    },
    {
      "cell_type": "code",
      "execution_count": null,
      "metadata": {
        "id": "GCYvwLw1yUKp"
      },
      "outputs": [],
      "source": [
        "def generate_sentence(headline_starter, model):\n",
        "    # Tokenize and numerize the headline. Put the numerized headline\n",
        "    # beginning in `current_build`\n",
        "    tokenized = tokenizer.word_tokenizer(headline_starter.lower())\n",
        "    current_build = [startI] + numerize_sequence(tokenized)\n",
        "\n",
        "    while len(current_build) < input_length:\n",
        "        # Pad the current_build into a input_length vector.\n",
        "        # We do this so that it can be processed by our LanguageModel class\n",
        "        current_padded, _m = pad_sequence(current_build, padI, input_length)\n",
        "\n",
        "        # Obtain the logits for the current padded sequence\n",
        "        # This involves obtaining the output_logits from our model,\n",
        "        # and not the loss like we have done so far\n",
        "        logits = your_code\n",
        "        logits_np = logits.detach().cpu().numpy()\n",
        "\n",
        "        # Obtain the row of logits that interest us, the logits for the last non-pad\n",
        "        # inputs\n",
        "        last_logits = your_code\n",
        "\n",
        "        # Find the highest scoring words in the last_logits\n",
        "        # array, or sample from the softmax.\n",
        "        # The np.argmax function may be useful for first option,\n",
        "        # sp.special.softmax and np.random.choice may be useful for second option.\n",
        "        # Append this word to our current build\n",
        "        current_build.append(your_code)\n",
        "\n",
        "    # Go from the current_build of word_indices\n",
        "    # To the headline (string) produced. This should involve\n",
        "    # the vocabulary, and a string merger.\n",
        "    produced_sentence = your_code\n",
        "    return produced_sentence"
      ]
    },
    {
      "cell_type": "code",
      "execution_count": null,
      "metadata": {
        "id": "xVKeMmSAyUKq",
        "scrolled": true
      },
      "outputs": [],
      "source": [
        "model.eval()\n",
        "# Here are some headline starters.\n",
        "# They're all about tech companies, because\n",
        "# That is what is in our dataset\n",
        "headline_starters = [\"apple has released\", \"google has released\", \"amazon\", \"tesla to\"]\n",
        "for headline_starter in headline_starters:\n",
        "    print(\"===================\")\n",
        "    print(\"Generating headline starting with: \"+headline_starter)\n",
        "\n",
        "    produced_sentence = generate_sentence(headline_starter, model)\n",
        "    print(produced_sentence)\n",
        "validate_to_array(generate_sentence,zip(headline_starters,[model]*len(headline_starters)),\"generate_sentence\",root_folder,multi=True)"
      ]
    },
    {
      "cell_type": "markdown",
      "metadata": {
        "id": "JQ6ni5GZyUKr"
      },
      "source": [
        "## All done\n",
        "\n",
        "You are done with the first part of the HW.\n",
        "\n",
        "Next notebook deals with Summarization of text!\n"
      ]
    },
    {
      "cell_type": "markdown",
      "metadata": {
        "heading_collapsed": true,
        "id": "QoPgKURxyUKs"
      },
      "source": [
        "# Preprocessing (read only)\n"
      ]
    },
    {
      "cell_type": "markdown",
      "metadata": {
        "hidden": true,
        "id": "FfOq00MZyUKt"
      },
      "source": [
        "**You can skip this section, however you may find these functions useful in later sections of this notebook**\n",
        "\n",
        "We have provided this code so you see how the dataset was generated. You will have to come back some of these functions later in the assignment, so feel free to read through, to get familiar."
      ]
    },
    {
      "cell_type": "code",
      "execution_count": null,
      "metadata": {
        "hidden": true,
        "id": "uS8FUmo9yUKt"
      },
      "outputs": [],
      "source": [
        "# You do not need to run this\n",
        "# This is to show you how the dataset was created\n",
        "# You should read to understand, so you can preprocess text\n",
        "# In the same way, in the evaluation section\n",
        "\n",
        "for a in dataset:\n",
        "    a['tokenized'] = tokenizer.word_tokenizer(a['title'].lower())"
      ]
    },
    {
      "cell_type": "code",
      "execution_count": null,
      "metadata": {
        "hidden": true,
        "id": "g_9okOHoyUKu",
        "scrolled": true
      },
      "outputs": [],
      "source": [
        "# You do not need to run this\n",
        "# This is to show you how the dataset was created\n",
        "# You should read to understand, so you can preprocess text\n",
        "# In the same way, in the evaluation section\n",
        "\n",
        "word_counts = Counter()\n",
        "for a in dataset:\n",
        "    word_counts.update(a['tokenized'])\n",
        "\n",
        "print(word_counts.most_common(30))"
      ]
    },
    {
      "cell_type": "code",
      "execution_count": null,
      "metadata": {
        "hidden": true,
        "id": "OhNeO1LdyUKv"
      },
      "outputs": [],
      "source": [
        "# You do not need to run this\n",
        "# This is to show you how the dataset was created\n",
        "# You should read to understand, so you can preprocess text\n",
        "# In the same way, in the evaluation section\n",
        "\n",
        "# Creating the vocab\n",
        "vocab_size = 20000\n",
        "special_words = [\"<START>\", \"UNK\", \"PAD\"]\n",
        "vocabulary = special_words + [w for w, c in word_counts.most_common(vocab_size-len(special_words))]\n",
        "w2i = {w: i for i, w in enumerate(vocabulary)}\n",
        "\n",
        "# Numerizing and padding\n",
        "input_length = 20\n",
        "unkI, padI, startI = w2i['UNK'], w2i['PAD'], w2i['<START>']\n",
        "\n",
        "for a in dataset:\n",
        "    a['numerized'] = numerize_sequence(a['tokenized']) # Change words to IDs\n",
        "    a['numerized'], a['mask'] = pad_sequence(a['numerized'], padI, input_length) # Append appropriate PAD tokens\n",
        "\n",
        "# Compute fraction of words that are UNK:\n",
        "word_counters = Counter([w for a in dataset for w in a['input'] if w != padI])\n",
        "\n",
        "print(\"Fraction of UNK words:\", float(word_counters[unkI]) / sum(word_counters.values()))"
      ]
    },
    {
      "cell_type": "code",
      "execution_count": null,
      "metadata": {
        "hidden": true,
        "id": "rpeDdDrUyUKw"
      },
      "outputs": [],
      "source": [
        "# You do not need to run this\n",
        "# This is to show you how the dataset was created\n",
        "# You should read to understand, so you can preprocess text\n",
        "# In the same way, in the evaluation section\n",
        "\n",
        "d_released_processed   = [d for d in dataset if d['cut'] != 'testing']\n",
        "d_unreleased_processed = [d for d in dataset if d['cut'] == 'testing']\n",
        "\n",
        "with open(\"dataset/headline_generation_dataset_processed.json\", \"w\") as f:\n",
        "    json.dump(d_released_processed, f)\n",
        "\n",
        "# This file is purposefully left out of the assignment, we will use it to evaluate your model.\n",
        "with open(\"dataset/headline_generation_dataset_unreleased_processed.json\", \"w\") as f:\n",
        "    json.dump(d_unreleased_processed, f)\n",
        "\n",
        "with open(\"dataset/headline_generation_vocabulary.txt\", \"w\") as f:\n",
        "    f.write(\"\\n\".join(vocabulary).encode('utf8'))"
      ]
    },
    {
      "cell_type": "code",
      "execution_count": null,
      "metadata": {
        "id": "lS--8I0KlDvO"
      },
      "outputs": [],
      "source": []
    },
    {
      "cell_type": "code",
      "execution_count": null,
      "metadata": {
        "id": "PD5uZ9AGNWIL"
      },
      "outputs": [],
      "source": []
    }
  ],
  "metadata": {
    "accelerator": "GPU",
    "anaconda-cloud": {},
    "colab": {
      "provenance": [],
      "include_colab_link": true
    },
    "kernelspec": {
      "display_name": "Python 3",
      "language": "python",
      "name": "python3"
    },
    "language_info": {
      "codemirror_mode": {
        "name": "ipython",
        "version": 3
      },
      "file_extension": ".py",
      "mimetype": "text/x-python",
      "name": "python",
      "nbconvert_exporter": "python",
      "pygments_lexer": "ipython3",
      "version": "3.9.18"
    },
    "varInspector": {
      "cols": {
        "lenName": 16,
        "lenType": 16,
        "lenVar": 40
      },
      "kernels_config": {
        "python": {
          "delete_cmd_postfix": "",
          "delete_cmd_prefix": "del ",
          "library": "var_list.py",
          "varRefreshCmd": "print(var_dic_list())"
        },
        "r": {
          "delete_cmd_postfix": ") ",
          "delete_cmd_prefix": "rm(",
          "library": "var_list.r",
          "varRefreshCmd": "cat(var_dic_list()) "
        }
      },
      "types_to_exclude": [
        "module",
        "function",
        "builtin_function_or_method",
        "instance",
        "_Feature"
      ],
      "window_display": false
    }
  },
  "nbformat": 4,
  "nbformat_minor": 0
}